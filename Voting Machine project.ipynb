{
 "cells": [
  {
   "cell_type": "markdown",
   "id": "fbe4c34d",
   "metadata": {},
   "source": [
    "# Voting Machine project"
   ]
  },
  {
   "cell_type": "code",
   "execution_count": null,
   "id": "4496c740",
   "metadata": {},
   "outputs": [
    {
     "name": "stdout",
     "output_type": "stream",
     "text": [
      "Enter Name of first nominee: 1\n",
      "Enter Name of second nominee: 2\n",
      "Enter voter id: 3\n",
      "Voter is eligible for voting.\n",
      "Enter vote-1 for first nom and 2 for second nom: 1\n",
      "Enter voter id: 1\n",
      "Voter is eligible for voting.\n"
     ]
    }
   ],
   "source": [
    "nom1_name = input(\"Enter Name of first nominee: \")\n",
    "nom2_name = input(\"Enter Name of second nominee: \")\n",
    "nom1_votes = 0\n",
    "nom2_votes = 0\n",
    "voters_id = [1, 2, 3, 4]\n",
    "tot = len(voters_id)\n",
    "\n",
    "while True:\n",
    "    if not voters_id:\n",
    "        print(\"Total voters have voted successfully\")\n",
    "        per1 = (nom1_votes / tot) * 100\n",
    "        per2 = (nom2_votes / tot) * 100\n",
    "        print(\"\\n*ELECTION RESULT*\\n\")\n",
    "        print(\"Total votes of\", nom1_name, \"are:\", nom1_votes)\n",
    "        print(\"Total votes of\", nom2_name, \"are:\", nom2_votes)\n",
    "        if nom1_votes > nom2_votes:\n",
    "            print(\"\\n\", nom1_name, \"won the election with\", per1, \"% congrats..\")\n",
    "        else:\n",
    "            print(\"\\n\", nom2_name, \"won the election with\", per2, \"% congrats..\")\n",
    "        break\n",
    "    else:\n",
    "        voter = int(input(\"Enter voter id: \"))\n",
    "        if voter in voters_id:\n",
    "            voters_id.remove(voter)\n",
    "            print(\"Voter is eligible for voting.\")\n",
    "            vote = int(input(\"Enter vote-1 for first nom and 2 for second nom: \"))\n",
    "            if vote == 1:\n",
    "                nom1_votes += 1\n",
    "            elif vote == 2:\n",
    "                nom2_votes += 1\n",
    "            else:\n",
    "                print(\"Invalid vote! Voter is not eligible for voting or has already voted!\")\n",
    "        else:\n",
    "            print(\"Invalid voter ID! Voter is not eligible for voting or has already voted!\")\n"
   ]
  },
  {
   "cell_type": "code",
   "execution_count": null,
   "id": "e5c09fc2",
   "metadata": {},
   "outputs": [],
   "source": []
  }
 ],
 "metadata": {
  "kernelspec": {
   "display_name": "Python 3 (ipykernel)",
   "language": "python",
   "name": "python3"
  },
  "language_info": {
   "codemirror_mode": {
    "name": "ipython",
    "version": 3
   },
   "file_extension": ".py",
   "mimetype": "text/x-python",
   "name": "python",
   "nbconvert_exporter": "python",
   "pygments_lexer": "ipython3",
   "version": "3.10.4"
  }
 },
 "nbformat": 4,
 "nbformat_minor": 5
}
